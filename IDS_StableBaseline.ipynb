{
  "nbformat": 4,
  "nbformat_minor": 0,
  "metadata": {
    "colab": {
      "provenance": [],
      "gpuType": "T4",
      "mount_file_id": "1vdrgAjqOxQLwlzOUIK_loSXeWyHgPv7Z",
      "authorship_tag": "ABX9TyOYMUh8x4yrQBQVHhjELnNg",
      "include_colab_link": true
    },
    "kernelspec": {
      "name": "python3",
      "display_name": "Python 3"
    },
    "language_info": {
      "name": "python"
    },
    "accelerator": "GPU"
  },
  "cells": [
    {
      "cell_type": "markdown",
      "metadata": {
        "id": "view-in-github",
        "colab_type": "text"
      },
      "source": [
        "<a href=\"https://colab.research.google.com/github/CeiYsBennova/DACN/blob/main/IDS_StableBaseline.ipynb\" target=\"_parent\"><img src=\"https://colab.research.google.com/assets/colab-badge.svg\" alt=\"Open In Colab\"/></a>"
      ]
    },
    {
      "cell_type": "code",
      "execution_count": null,
      "metadata": {
        "id": "V4yubow-ZoGb"
      },
      "outputs": [],
      "source": [
        "!pip install stable-baselines==2.10.1"
      ]
    },
    {
      "cell_type": "code",
      "source": [
        "from google.colab import drive\n",
        "drive.mount('/content/drive')"
      ],
      "metadata": {
        "id": "FMwwJ2kdxKV7"
      },
      "execution_count": null,
      "outputs": []
    },
    {
      "cell_type": "code",
      "source": [
        "import os\n",
        "import pandas as pd\n",
        "\n",
        "pd.set_option(\"display.max_columns\", None)\n",
        "\n",
        "dataset_folder = \"/content/drive/MyDrive/ML/CIC-IDS-2017/dataset/\"\n",
        "\n",
        "# load data\n",
        "files = os.listdir(dataset_folder)\n",
        "\n",
        "df = pd.read_csv(os.path.join(dataset_folder, files[0]))\n",
        "for file in files[1:]:\n",
        "    df = df.append(pd.read_csv(os.path.join(dataset_folder, file)))\n",
        "    print(file)\n",
        "    df_temp = pd.read_csv(os.path.join(dataset_folder, file))\n",
        "    df = pd.concat([df, df_temp], ignore_index=True)\n",
        "\n",
        "del df_temp\n",
        "\n",
        "df.reset_index(drop=True, inplace=True)"
      ],
      "metadata": {
        "colab": {
          "base_uri": "https://localhost:8080/"
        },
        "id": "zwoeaVvhaOF5",
        "outputId": "faa38362-7a65-47b4-bc65-789d2de9eb96"
      },
      "execution_count": null,
      "outputs": [
        {
          "output_type": "stream",
          "name": "stderr",
          "text": [
            "<ipython-input-2-15e14a6bf03c>:13: FutureWarning: The frame.append method is deprecated and will be removed from pandas in a future version. Use pandas.concat instead.\n",
            "  df = df.append(pd.read_csv(os.path.join(dataset_folder, file)))\n"
          ]
        },
        {
          "output_type": "stream",
          "name": "stdout",
          "text": [
            "Friday-WorkingHours-Afternoon-PortScan.pcap_ISCX.csv\n"
          ]
        },
        {
          "output_type": "stream",
          "name": "stderr",
          "text": [
            "<ipython-input-2-15e14a6bf03c>:13: FutureWarning: The frame.append method is deprecated and will be removed from pandas in a future version. Use pandas.concat instead.\n",
            "  df = df.append(pd.read_csv(os.path.join(dataset_folder, file)))\n"
          ]
        },
        {
          "output_type": "stream",
          "name": "stdout",
          "text": [
            "Friday-WorkingHours-Morning.pcap_ISCX.csv\n"
          ]
        },
        {
          "output_type": "stream",
          "name": "stderr",
          "text": [
            "<ipython-input-2-15e14a6bf03c>:13: FutureWarning: The frame.append method is deprecated and will be removed from pandas in a future version. Use pandas.concat instead.\n",
            "  df = df.append(pd.read_csv(os.path.join(dataset_folder, file)))\n"
          ]
        },
        {
          "output_type": "stream",
          "name": "stdout",
          "text": [
            "Monday-WorkingHours.pcap_ISCX.csv\n"
          ]
        },
        {
          "output_type": "stream",
          "name": "stderr",
          "text": [
            "<ipython-input-2-15e14a6bf03c>:13: FutureWarning: The frame.append method is deprecated and will be removed from pandas in a future version. Use pandas.concat instead.\n",
            "  df = df.append(pd.read_csv(os.path.join(dataset_folder, file)))\n"
          ]
        },
        {
          "output_type": "stream",
          "name": "stdout",
          "text": [
            "Thursday-WorkingHours-Afternoon-Infilteration.pcap_ISCX.csv\n"
          ]
        },
        {
          "output_type": "stream",
          "name": "stderr",
          "text": [
            "<ipython-input-2-15e14a6bf03c>:13: FutureWarning: The frame.append method is deprecated and will be removed from pandas in a future version. Use pandas.concat instead.\n",
            "  df = df.append(pd.read_csv(os.path.join(dataset_folder, file)))\n"
          ]
        },
        {
          "output_type": "stream",
          "name": "stdout",
          "text": [
            "Thursday-WorkingHours-Morning-WebAttacks.pcap_ISCX.csv\n"
          ]
        },
        {
          "output_type": "stream",
          "name": "stderr",
          "text": [
            "<ipython-input-2-15e14a6bf03c>:13: FutureWarning: The frame.append method is deprecated and will be removed from pandas in a future version. Use pandas.concat instead.\n",
            "  df = df.append(pd.read_csv(os.path.join(dataset_folder, file)))\n"
          ]
        },
        {
          "output_type": "stream",
          "name": "stdout",
          "text": [
            "Tuesday-WorkingHours.pcap_ISCX.csv\n"
          ]
        },
        {
          "output_type": "stream",
          "name": "stderr",
          "text": [
            "<ipython-input-2-15e14a6bf03c>:13: FutureWarning: The frame.append method is deprecated and will be removed from pandas in a future version. Use pandas.concat instead.\n",
            "  df = df.append(pd.read_csv(os.path.join(dataset_folder, file)))\n"
          ]
        },
        {
          "output_type": "stream",
          "name": "stdout",
          "text": [
            "Wednesday-workingHours.pcap_ISCX.csv\n"
          ]
        }
      ]
    },
    {
      "cell_type": "code",
      "source": [
        "df.drop_duplicates(inplace=True)\n",
        "df.dropna(inplace=True)\n",
        "df.reset_index(drop=True, inplace=True)\n",
        "df.shape"
      ],
      "metadata": {
        "colab": {
          "base_uri": "https://localhost:8080/"
        },
        "id": "n3AsabW3aljy",
        "outputId": "52293a7d-02de-430d-bf51-89a790bc5025"
      },
      "execution_count": null,
      "outputs": [
        {
          "output_type": "execute_result",
          "data": {
            "text/plain": [
              "(2522009, 79)"
            ]
          },
          "metadata": {},
          "execution_count": 3
        }
      ]
    },
    {
      "cell_type": "code",
      "source": [
        "df.columns = df.columns.map(lambda x: \"_\".join(x.lower().strip().split(\" \")))\n",
        "df.columns"
      ],
      "metadata": {
        "colab": {
          "base_uri": "https://localhost:8080/"
        },
        "id": "ATwdDEqZaouL",
        "outputId": "d1a877a5-bdf4-4053-f617-63227828a571"
      },
      "execution_count": null,
      "outputs": [
        {
          "output_type": "execute_result",
          "data": {
            "text/plain": [
              "Index(['destination_port', 'flow_duration', 'total_fwd_packets',\n",
              "       'total_backward_packets', 'total_length_of_fwd_packets',\n",
              "       'total_length_of_bwd_packets', 'fwd_packet_length_max',\n",
              "       'fwd_packet_length_min', 'fwd_packet_length_mean',\n",
              "       'fwd_packet_length_std', 'bwd_packet_length_max',\n",
              "       'bwd_packet_length_min', 'bwd_packet_length_mean',\n",
              "       'bwd_packet_length_std', 'flow_bytes/s', 'flow_packets/s',\n",
              "       'flow_iat_mean', 'flow_iat_std', 'flow_iat_max', 'flow_iat_min',\n",
              "       'fwd_iat_total', 'fwd_iat_mean', 'fwd_iat_std', 'fwd_iat_max',\n",
              "       'fwd_iat_min', 'bwd_iat_total', 'bwd_iat_mean', 'bwd_iat_std',\n",
              "       'bwd_iat_max', 'bwd_iat_min', 'fwd_psh_flags', 'bwd_psh_flags',\n",
              "       'fwd_urg_flags', 'bwd_urg_flags', 'fwd_header_length',\n",
              "       'bwd_header_length', 'fwd_packets/s', 'bwd_packets/s',\n",
              "       'min_packet_length', 'max_packet_length', 'packet_length_mean',\n",
              "       'packet_length_std', 'packet_length_variance', 'fin_flag_count',\n",
              "       'syn_flag_count', 'rst_flag_count', 'psh_flag_count', 'ack_flag_count',\n",
              "       'urg_flag_count', 'cwe_flag_count', 'ece_flag_count', 'down/up_ratio',\n",
              "       'average_packet_size', 'avg_fwd_segment_size', 'avg_bwd_segment_size',\n",
              "       'fwd_header_length.1', 'fwd_avg_bytes/bulk', 'fwd_avg_packets/bulk',\n",
              "       'fwd_avg_bulk_rate', 'bwd_avg_bytes/bulk', 'bwd_avg_packets/bulk',\n",
              "       'bwd_avg_bulk_rate', 'subflow_fwd_packets', 'subflow_fwd_bytes',\n",
              "       'subflow_bwd_packets', 'subflow_bwd_bytes', 'init_win_bytes_forward',\n",
              "       'init_win_bytes_backward', 'act_data_pkt_fwd', 'min_seg_size_forward',\n",
              "       'active_mean', 'active_std', 'active_max', 'active_min', 'idle_mean',\n",
              "       'idle_std', 'idle_max', 'idle_min', 'label'],\n",
              "      dtype='object')"
            ]
          },
          "metadata": {},
          "execution_count": 4
        }
      ]
    },
    {
      "cell_type": "code",
      "source": [
        "# remove destination port and fwd header length columns\n",
        "df.drop('destination_port', axis=1, inplace=True)\n",
        "df.drop('fwd_header_length.1', axis=1, inplace=True)"
      ],
      "metadata": {
        "id": "mPyqnSZgat3H"
      },
      "execution_count": null,
      "outputs": []
    },
    {
      "cell_type": "code",
      "source": [
        "# check and drop zeros in columns\n",
        "for col in df.columns:\n",
        "    if df[col].astype(bool).sum(axis=0) == 0:\n",
        "        print(col)\n",
        "        df.drop(col, axis=1, inplace=True)"
      ],
      "metadata": {
        "colab": {
          "base_uri": "https://localhost:8080/"
        },
        "id": "ZtmqaKjsayo3",
        "outputId": "4ff07628-3092-425a-b5d7-7325a8c57f6b"
      },
      "execution_count": null,
      "outputs": [
        {
          "output_type": "stream",
          "name": "stdout",
          "text": [
            "bwd_psh_flags\n",
            "bwd_urg_flags\n",
            "fwd_avg_bytes/bulk\n",
            "fwd_avg_packets/bulk\n",
            "fwd_avg_bulk_rate\n",
            "bwd_avg_bytes/bulk\n",
            "bwd_avg_packets/bulk\n",
            "bwd_avg_bulk_rate\n"
          ]
        }
      ]
    },
    {
      "cell_type": "code",
      "source": [
        "# check INF values and replace with null values\n",
        "for col in df.columns:\n",
        "    if df[col].max() == float('inf'):\n",
        "        print(col)\n",
        "        df[col].replace(float('inf'), float('nan'), inplace=True)\n",
        "\n",
        "# drop null values\n",
        "df.dropna(inplace=True)\n",
        "df.reset_index(drop=True, inplace=True)"
      ],
      "metadata": {
        "colab": {
          "base_uri": "https://localhost:8080/"
        },
        "id": "YMMHhbg9az6E",
        "outputId": "d65258f5-50ff-4c58-81f3-41cb6a4ca8ba"
      },
      "execution_count": null,
      "outputs": [
        {
          "output_type": "stream",
          "name": "stdout",
          "text": [
            "flow_bytes/s\n",
            "flow_packets/s\n"
          ]
        }
      ]
    },
    {
      "cell_type": "code",
      "source": [
        "# binary label\n",
        "df[\"label\"] = df[\"label\"].apply(lambda x: 0 if x == \"BENIGN\" else 1)"
      ],
      "metadata": {
        "id": "pFpSFrqHh3QU"
      },
      "execution_count": null,
      "outputs": []
    },
    {
      "cell_type": "code",
      "source": [
        "features = [\n",
        "    \"bwd_packet_length_min\",\n",
        "    \"subflow_fwd_bytes\",\n",
        "    \"total_length_of_fwd_packets\",\n",
        "    \"fwd_packet_length_mean\",\n",
        "    \"bwd_packet_length_std\",\n",
        "    \"flow_iat_min\",\n",
        "    \"fwd_iat_min\",\n",
        "    \"flow_iat_mean\",\n",
        "    \"flow_duration\",\n",
        "    \"flow_iat_std\",\n",
        "    \"active_min\",\n",
        "    \"active_mean\",\n",
        "    \"bwd_iat_mean\",\n",
        "    \"fwd_iat_mean\",\n",
        "    \"init_win_bytes_forward\",\n",
        "    \"ack_flag_count\",\n",
        "    \"fwd_psh_flags\",\n",
        "    \"syn_flag_count\",\n",
        "    \"fwd_packets/s\",\n",
        "    \"init_win_bytes_backward\",\n",
        "    \"bwd_packets/s\",\n",
        "    \"psh_flag_count\",\n",
        "    \"packet_length_mean\",\n",
        "]"
      ],
      "metadata": {
        "id": "UCfRuD91a6Bt"
      },
      "execution_count": null,
      "outputs": []
    },
    {
      "cell_type": "code",
      "source": [
        "df = df[features + [\"label\"]]\n",
        "df.shape"
      ],
      "metadata": {
        "colab": {
          "base_uri": "https://localhost:8080/"
        },
        "id": "RAyg6ot4a7ul",
        "outputId": "d6da3733-efb9-48e6-8393-3847af1033af"
      },
      "execution_count": null,
      "outputs": [
        {
          "output_type": "execute_result",
          "data": {
            "text/plain": [
              "(2520798, 24)"
            ]
          },
          "metadata": {},
          "execution_count": 28
        }
      ]
    },
    {
      "cell_type": "code",
      "source": [
        "from sklearn.model_selection import train_test_split\n",
        "\n",
        "X_train, X_test, y_train, y_test = train_test_split(\n",
        "    df.iloc[:, :-1], df[\"label\"], test_size=0.2, shuffle=True\n",
        ")\n",
        "\n",
        "X_train, X_val, y_train, y_val = train_test_split(\n",
        "    X_train, y_train, test_size=0.2, shuffle=True\n",
        ")"
      ],
      "metadata": {
        "id": "RPX1rsAPb-Ox"
      },
      "execution_count": null,
      "outputs": []
    },
    {
      "cell_type": "code",
      "source": [
        "from sklearn.preprocessing import MinMaxScaler\n",
        "\n",
        "scaler = MinMaxScaler().fit(X_train.iloc[:, :])\n",
        "\n",
        "X_train.iloc[:, :] = scaler.transform(X_train.iloc[:, :])\n",
        "X_val.iloc[:, :] = scaler.transform(X_val.iloc[:, :])\n",
        "X_test.iloc[:, :] = scaler.transform(X_test.iloc[:, :])"
      ],
      "metadata": {
        "colab": {
          "base_uri": "https://localhost:8080/"
        },
        "id": "O2ghIJf-cGVj",
        "outputId": "245a4b87-f041-47d6-dbdf-a0cdc4b0fd8c"
      },
      "execution_count": null,
      "outputs": [
        {
          "output_type": "stream",
          "name": "stderr",
          "text": [
            "<ipython-input-30-c892deefbaeb>:5: DeprecationWarning: In a future version, `df.iloc[:, i] = newvals` will attempt to set the values inplace instead of always setting a new array. To retain the old behavior, use either `df[df.columns[i]] = newvals` or, if columns are non-unique, `df.isetitem(i, newvals)`\n",
            "  X_train.iloc[:, :] = scaler.transform(X_train.iloc[:, :])\n",
            "<ipython-input-30-c892deefbaeb>:6: DeprecationWarning: In a future version, `df.iloc[:, i] = newvals` will attempt to set the values inplace instead of always setting a new array. To retain the old behavior, use either `df[df.columns[i]] = newvals` or, if columns are non-unique, `df.isetitem(i, newvals)`\n",
            "  X_val.iloc[:, :] = scaler.transform(X_val.iloc[:, :])\n",
            "<ipython-input-30-c892deefbaeb>:7: DeprecationWarning: In a future version, `df.iloc[:, i] = newvals` will attempt to set the values inplace instead of always setting a new array. To retain the old behavior, use either `df[df.columns[i]] = newvals` or, if columns are non-unique, `df.isetitem(i, newvals)`\n",
            "  X_test.iloc[:, :] = scaler.transform(X_test.iloc[:, :])\n"
          ]
        }
      ]
    },
    {
      "cell_type": "code",
      "source": [
        "pd.concat([X_train, y_train], axis=1).to_csv(\"/content/drive/MyDrive/ML/CIC-IDS-2017/processed_data/train.csv\", index=None)\n",
        "pd.concat([X_test, y_test], axis=1).to_csv(\"/content/drive/MyDrive/ML/CIC-IDS-2017/processed_data/test.csv\", index=None)\n",
        "pd.concat([X_val, y_val], axis=1).to_csv(\"/content/drive/MyDrive/ML/CIC-IDS-2017/processed_data/val.csv\", index=None)"
      ],
      "metadata": {
        "id": "bw1v3i0fcNNW"
      },
      "execution_count": null,
      "outputs": []
    },
    {
      "cell_type": "code",
      "source": [
        "%cd /content/drive/MyDrive/ML/CIC-IDS-2017\n",
        "!pwd"
      ],
      "metadata": {
        "colab": {
          "base_uri": "https://localhost:8080/"
        },
        "id": "irCecH3CdezY",
        "outputId": "37ae9f32-1524-4563-b0fa-543f08c8ca85"
      },
      "execution_count": null,
      "outputs": [
        {
          "output_type": "stream",
          "name": "stdout",
          "text": [
            "/content/drive/MyDrive/ML/CIC-IDS-2017\n",
            "/content/drive/MyDrive/ML/CIC-IDS-2017\n"
          ]
        }
      ]
    },
    {
      "cell_type": "code",
      "source": [
        "import gymnasium as gym\n",
        "import numpy as np\n",
        "import pandas as pd"
      ],
      "metadata": {
        "id": "MrhGmlXOdiPw"
      },
      "execution_count": null,
      "outputs": []
    },
    {
      "cell_type": "code",
      "source": [
        "class IDS_Env(gym.Env):\n",
        "    def __init__(self, df):\n",
        "        self.df = df\n",
        "        # 0: normal, 1: attack\n",
        "        self.action_space = gym.spaces.Discrete(2)\n",
        "        self.observation_space = gym.spaces.Box(low=0, high=1, shape=(df.shape[1] - 1,), dtype=np.float64)\n",
        "        # max episode\n",
        "        self.max_steps = 1000\n",
        "\n",
        "        # reward = (label, action)\n",
        "        self.reward = {(0, 0): 0, (0, 1): -1, (1, 0): -1, (1, 1): 1}\n",
        "\n",
        "        self.steps_beyond_done = None\n",
        "\n",
        "    def reset(self,seed=None):\n",
        "        self.steps_beyond_done = None\n",
        "        self.current_step = 0\n",
        "\n",
        "        # random start state\n",
        "        self.state = np.random.randint(0, self.df.shape[0])\n",
        "\n",
        "        # observation\n",
        "        self.observation = self.df.iloc[self.state]\n",
        "\n",
        "        # label of observation\n",
        "        self.label = int(self.observation.pop('label'))\n",
        "\n",
        "        obs, info = self.observation.values, {'state': self.state, 'label': self.label}\n",
        "        return obs, info\n",
        "\n",
        "    def step(self, action):\n",
        "        reason = {}\n",
        "        terminate = False\n",
        "        truncate = False\n",
        "        self.current_step += 1\n",
        "\n",
        "        if self.current_step >= self.max_steps:\n",
        "            terminate = True\n",
        "            truncate = True\n",
        "            reason['reason'] = 'max_episode'\n",
        "\n",
        "        if self.label == 1 and action==0:\n",
        "            terminate = True\n",
        "            truncate = True\n",
        "            reason['reason'] = 'attack missed'\n",
        "\n",
        "        reward = self.reward[(self.label, action)]\n",
        "\n",
        "        if not (terminate or truncate):\n",
        "            self.state += 1\n",
        "            if self.state >= self.df.shape[0]:\n",
        "              self.state = 0\n",
        "\n",
        "            self.observation = self.df.iloc[self.state]\n",
        "            self.label = int(self.observation.pop('label'))\n",
        "\n",
        "        elif self.steps_beyond_done is None:\n",
        "            self.steps_beyond_done = 0\n",
        "        else:\n",
        "            self.steps_beyond_done += 1\n",
        "            reward = 0\n",
        "\n",
        "        return self.observation.values, reward, terminate,truncate, reason"
      ],
      "metadata": {
        "id": "wZYrYH5ndnd8"
      },
      "execution_count": null,
      "outputs": []
    },
    {
      "cell_type": "code",
      "source": [
        "# load data\n",
        "train_data = pd.read_csv(\"/content/drive/MyDrive/ML/CIC-IDS-2017/processed_data/train.csv\")"
      ],
      "metadata": {
        "id": "atocetSnfnu0"
      },
      "execution_count": null,
      "outputs": []
    },
    {
      "cell_type": "code",
      "source": [
        "# create environment\n",
        "env = IDS_Env(train_data)"
      ],
      "metadata": {
        "id": "r1cJeOEQf0at"
      },
      "execution_count": null,
      "outputs": []
    },
    {
      "cell_type": "code",
      "source": [
        "!pip install stable-baselines3\n",
        "!pip install shimmy==0.2.1"
      ],
      "metadata": {
        "id": "uKTqYBIJgVGT"
      },
      "execution_count": null,
      "outputs": []
    },
    {
      "cell_type": "code",
      "source": [
        "# import stable-baselines3\n",
        "import tensorflow as tf\n",
        "from stable_baselines3.common.vec_env import DummyVecEnv\n",
        "from stable_baselines3 import PPO"
      ],
      "metadata": {
        "colab": {
          "base_uri": "https://localhost:8080/"
        },
        "id": "VPWNBOezf9ey",
        "outputId": "ae632e10-4e2c-4dd3-8e99-2fd648d526c4"
      },
      "execution_count": null,
      "outputs": [
        {
          "output_type": "stream",
          "name": "stderr",
          "text": [
            "/usr/local/lib/python3.10/dist-packages/torch/utils/tensorboard/__init__.py:4: DeprecationWarning: distutils Version classes are deprecated. Use packaging.version instead.\n",
            "  if not hasattr(tensorboard, \"__version__\") or LooseVersion(\n"
          ]
        }
      ]
    },
    {
      "cell_type": "code",
      "source": [
        "from stable_baselines3.common.env_checker import check_env\n",
        "\n",
        "# check environment\n",
        "check_env(env)"
      ],
      "metadata": {
        "id": "FGwVn-PUghwU"
      },
      "execution_count": null,
      "outputs": []
    },
    {
      "cell_type": "code",
      "source": [
        "# create environment\n",
        "n_envs = 16\n",
        "env = DummyVecEnv([lambda: IDS_Env(train_data)]*n_envs)"
      ],
      "metadata": {
        "id": "4qzZ9D3yjmDo"
      },
      "execution_count": null,
      "outputs": []
    },
    {
      "cell_type": "code",
      "source": [
        "!pip install swifter"
      ],
      "metadata": {
        "id": "YHE93cDgi9t-"
      },
      "execution_count": null,
      "outputs": []
    },
    {
      "cell_type": "code",
      "source": [
        "from stable_baselines3.common.callbacks import BaseCallback\n",
        "from sklearn.metrics import accuracy_score, f1_score\n",
        "import swifter"
      ],
      "metadata": {
        "id": "7mjZQUsnizC4"
      },
      "execution_count": null,
      "outputs": []
    },
    {
      "cell_type": "code",
      "source": [
        "class AccF1Callback(BaseCallback):\n",
        "    def __init__(self, train, val, eval_freq):\n",
        "        super().__init__()\n",
        "        self.train_data = train\n",
        "        self.val_data = val\n",
        "        self.eval_freq = eval_freq\n",
        "\n",
        "    def _on_step(self) -> bool:\n",
        "\n",
        "        # This method will be called by the model after each call to `env.step()`.\n",
        "        # return: (bool) If the callback returns False, training is aborted early.\n",
        "\n",
        "        if self.eval_freq > 0 and self.n_calls % self.eval_freq == 0:\n",
        "            super()._on_step()\n",
        "\n",
        "            # Calculate metrics for training data\n",
        "            predicted = self.train_data.drop(columns=[\"label\"]).swifter.apply(\n",
        "                lambda x: self.model.predict(x, deterministic=True)[0], axis=1\n",
        "            )\n",
        "            accuracy = accuracy_score(self.train_data[\"label\"], predicted)\n",
        "            f1 = f1_score(self.train_data[\"label\"], predicted)\n",
        "\n",
        "            print(\"-\" * 60)\n",
        "            print(f\"timesteps: {self.num_timesteps}\")\n",
        "            print(f\"Training   >>> accuracy: {accuracy:.4f}, f1-score: {f1:.4f}\")\n",
        "\n",
        "            # Calculate metrics for validation data\n",
        "            predicted = self.val_data.drop(columns=[\"label\"]).swifter.apply(\n",
        "                lambda x: self.model.predict(x, deterministic=True)[0], axis=1\n",
        "            )\n",
        "            accuracy = accuracy_score(self.val_data[\"label\"], predicted)\n",
        "            f1 = f1_score(self.val_data[\"label\"], predicted)\n",
        "            print(f\"Validation >>> accuracy: {accuracy:.4f}, f1-score: {f1:.4f}\")\n",
        "            print(\"-\" * 60)\n",
        "\n",
        "        return True"
      ],
      "metadata": {
        "id": "OY-gKo4Ai5Y0"
      },
      "execution_count": null,
      "outputs": []
    },
    {
      "cell_type": "code",
      "source": [
        "val_data = pd.read_csv(\"/content/drive/MyDrive/ML/CIC-IDS-2017/processed_data/val.csv\")\n",
        "eval_callback = AccF1Callback(train_data, val_data, eval_freq=20000 // n_envs)"
      ],
      "metadata": {
        "id": "YbDOmxtvjN9L"
      },
      "execution_count": null,
      "outputs": []
    },
    {
      "cell_type": "code",
      "source": [
        "from stable_baselines3 import A2C, PPO\n",
        "\n",
        "model = PPO(\"MlpPolicy\", env, verbose=1)"
      ],
      "metadata": {
        "colab": {
          "base_uri": "https://localhost:8080/"
        },
        "id": "e0VS0rPbjxF0",
        "outputId": "6acc39b2-d603-42c2-d035-6f8af616920b"
      },
      "execution_count": null,
      "outputs": [
        {
          "output_type": "stream",
          "name": "stdout",
          "text": [
            "Using cpu device\n"
          ]
        },
        {
          "output_type": "stream",
          "name": "stderr",
          "text": [
            "/usr/local/lib/python3.10/dist-packages/ipykernel/ipkernel.py:283: DeprecationWarning: `should_run_async` will not call `transform_cell` automatically in the future. Please pass the result to `transformed_cell` argument and any exception that happen during thetransform in `preprocessing_exc_tuple` in IPython 7.17 and above.\n",
            "  and should_run_async(code)\n"
          ]
        }
      ]
    },
    {
      "cell_type": "code",
      "source": [
        "model.learn(1000000, callback=eval_callback)"
      ],
      "metadata": {
        "colab": {
          "base_uri": "https://localhost:8080/"
        },
        "id": "9o58E98Tj2HY",
        "outputId": "5dd2a145-66ab-414b-bb51-4fe75ecdc292"
      },
      "execution_count": null,
      "outputs": [
        {
          "output_type": "stream",
          "name": "stdout",
          "text": [
            "------------------------------------------------------------\n",
            "timesteps: 20000\n",
            "Training   >>> accuracy: 0.3330, f1-score: 0.1002\n",
            "Validation >>> accuracy: 0.3333, f1-score: 0.0993\n",
            "------------------------------------------------------------\n",
            "------------------------------\n",
            "| time/              |       |\n",
            "|    fps             | 1840  |\n",
            "|    iterations      | 1     |\n",
            "|    time_elapsed    | 17    |\n",
            "|    total_timesteps | 32768 |\n",
            "------------------------------\n",
            "------------------------------------------------------------\n",
            "timesteps: 40000\n",
            "Training   >>> accuracy: 0.8311, f1-score: 0.0000\n",
            "Validation >>> accuracy: 0.8320, f1-score: 0.0000\n",
            "------------------------------------------------------------\n",
            "------------------------------------------------------------\n",
            "timesteps: 60000\n",
            "Training   >>> accuracy: 0.8311, f1-score: 0.0000\n",
            "Validation >>> accuracy: 0.8320, f1-score: 0.0000\n",
            "------------------------------------------------------------\n",
            "-----------------------------------------\n",
            "| time/                   |             |\n",
            "|    fps                  | 1008        |\n",
            "|    iterations           | 2           |\n",
            "|    time_elapsed         | 64          |\n",
            "|    total_timesteps      | 65536       |\n",
            "| train/                  |             |\n",
            "|    approx_kl            | 0.020351036 |\n",
            "|    clip_fraction        | 0.445       |\n",
            "|    clip_range           | 0.2         |\n",
            "|    entropy_loss         | -0.673      |\n",
            "|    explained_variance   | -0.0127     |\n",
            "|    learning_rate        | 0.0003      |\n",
            "|    loss                 | 2.01        |\n",
            "|    n_updates            | 10          |\n",
            "|    policy_gradient_loss | -0.0468     |\n",
            "|    value_loss           | 3.87        |\n",
            "-----------------------------------------\n",
            "------------------------------------------------------------\n",
            "timesteps: 80000\n",
            "Training   >>> accuracy: 0.8311, f1-score: 0.0000\n",
            "Validation >>> accuracy: 0.8320, f1-score: 0.0000\n",
            "------------------------------------------------------------\n",
            "----------------------------------------\n",
            "| time/                   |            |\n",
            "|    fps                  | 943        |\n",
            "|    iterations           | 3          |\n",
            "|    time_elapsed         | 104        |\n",
            "|    total_timesteps      | 98304      |\n",
            "| train/                  |            |\n",
            "|    approx_kl            | 0.01735381 |\n",
            "|    clip_fraction        | 0.354      |\n",
            "|    clip_range           | 0.2        |\n",
            "|    entropy_loss         | -0.621     |\n",
            "|    explained_variance   | 0.0749     |\n",
            "|    learning_rate        | 0.0003     |\n",
            "|    loss                 | 2.26       |\n",
            "|    n_updates            | 20         |\n",
            "|    policy_gradient_loss | -0.0388    |\n",
            "|    value_loss           | 4.11       |\n",
            "----------------------------------------\n",
            "------------------------------------------------------------\n",
            "timesteps: 100000\n",
            "Training   >>> accuracy: 0.8311, f1-score: 0.0000\n",
            "Validation >>> accuracy: 0.8320, f1-score: 0.0000\n",
            "------------------------------------------------------------\n",
            "------------------------------------------------------------\n",
            "timesteps: 120000\n",
            "Training   >>> accuracy: 0.8311, f1-score: 0.0000\n",
            "Validation >>> accuracy: 0.8320, f1-score: 0.0000\n",
            "------------------------------------------------------------\n",
            "-----------------------------------------\n",
            "| time/                   |             |\n",
            "|    fps                  | 837         |\n",
            "|    iterations           | 4           |\n",
            "|    time_elapsed         | 156         |\n",
            "|    total_timesteps      | 131072      |\n",
            "| train/                  |             |\n",
            "|    approx_kl            | 0.013886232 |\n",
            "|    clip_fraction        | 0.283       |\n",
            "|    clip_range           | 0.2         |\n",
            "|    entropy_loss         | -0.553      |\n",
            "|    explained_variance   | 0.0893      |\n",
            "|    learning_rate        | 0.0003      |\n",
            "|    loss                 | 1.23        |\n",
            "|    n_updates            | 30          |\n",
            "|    policy_gradient_loss | -0.0335     |\n",
            "|    value_loss           | 3.01        |\n",
            "-----------------------------------------\n",
            "------------------------------------------------------------\n",
            "timesteps: 140000\n",
            "Training   >>> accuracy: 0.8311, f1-score: 0.0000\n",
            "Validation >>> accuracy: 0.8320, f1-score: 0.0000\n",
            "------------------------------------------------------------\n",
            "------------------------------------------------------------\n",
            "timesteps: 160000\n",
            "Training   >>> accuracy: 0.8311, f1-score: 0.0000\n",
            "Validation >>> accuracy: 0.8320, f1-score: 0.0000\n",
            "------------------------------------------------------------\n",
            "-----------------------------------------\n",
            "| time/                   |             |\n",
            "|    fps                  | 802         |\n",
            "|    iterations           | 5           |\n",
            "|    time_elapsed         | 204         |\n",
            "|    total_timesteps      | 163840      |\n",
            "| train/                  |             |\n",
            "|    approx_kl            | 0.052796442 |\n",
            "|    clip_fraction        | 0.239       |\n",
            "|    clip_range           | 0.2         |\n",
            "|    entropy_loss         | -0.408      |\n",
            "|    explained_variance   | 0.086       |\n",
            "|    learning_rate        | 0.0003      |\n",
            "|    loss                 | 0.47        |\n",
            "|    n_updates            | 40          |\n",
            "|    policy_gradient_loss | -0.0311     |\n",
            "|    value_loss           | 1.89        |\n",
            "-----------------------------------------\n",
            "------------------------------------------------------------\n",
            "timesteps: 180000\n",
            "Training   >>> accuracy: 0.8329, f1-score: 0.0217\n",
            "Validation >>> accuracy: 0.8337, f1-score: 0.0213\n",
            "------------------------------------------------------------\n",
            "----------------------------------------\n",
            "| time/                   |            |\n",
            "|    fps                  | 797        |\n",
            "|    iterations           | 6          |\n",
            "|    time_elapsed         | 246        |\n",
            "|    total_timesteps      | 196608     |\n",
            "| train/                  |            |\n",
            "|    approx_kl            | 0.12374674 |\n",
            "|    clip_fraction        | 0.146      |\n",
            "|    clip_range           | 0.2        |\n",
            "|    entropy_loss         | -0.209     |\n",
            "|    explained_variance   | 0.0475     |\n",
            "|    learning_rate        | 0.0003     |\n",
            "|    loss                 | 0.282      |\n",
            "|    n_updates            | 50         |\n",
            "|    policy_gradient_loss | -0.0298    |\n",
            "|    value_loss           | 0.86       |\n",
            "----------------------------------------\n",
            "------------------------------------------------------------\n",
            "timesteps: 200000\n",
            "Training   >>> accuracy: 0.8798, f1-score: 0.4480\n",
            "Validation >>> accuracy: 0.8809, f1-score: 0.4517\n",
            "------------------------------------------------------------\n",
            "------------------------------------------------------------\n",
            "timesteps: 220000\n",
            "Training   >>> accuracy: 0.8798, f1-score: 0.4480\n",
            "Validation >>> accuracy: 0.8809, f1-score: 0.4517\n",
            "------------------------------------------------------------\n",
            "-----------------------------------------\n",
            "| time/                   |             |\n",
            "|    fps                  | 781         |\n",
            "|    iterations           | 7           |\n",
            "|    time_elapsed         | 293         |\n",
            "|    total_timesteps      | 229376      |\n",
            "| train/                  |             |\n",
            "|    approx_kl            | 0.012040015 |\n",
            "|    clip_fraction        | 0.103       |\n",
            "|    clip_range           | 0.2         |\n",
            "|    entropy_loss         | -0.172      |\n",
            "|    explained_variance   | -0.00717    |\n",
            "|    learning_rate        | 0.0003      |\n",
            "|    loss                 | 0.161       |\n",
            "|    n_updates            | 60          |\n",
            "|    policy_gradient_loss | -0.0207     |\n",
            "|    value_loss           | 0.345       |\n",
            "-----------------------------------------\n",
            "------------------------------------------------------------\n",
            "timesteps: 240000\n",
            "Training   >>> accuracy: 0.9163, f1-score: 0.6716\n",
            "Validation >>> accuracy: 0.9171, f1-score: 0.6735\n",
            "------------------------------------------------------------\n",
            "------------------------------------------------------------\n",
            "timesteps: 260000\n",
            "Training   >>> accuracy: 0.9163, f1-score: 0.6716\n",
            "Validation >>> accuracy: 0.9171, f1-score: 0.6735\n",
            "------------------------------------------------------------\n",
            "-----------------------------------------\n",
            "| time/                   |             |\n",
            "|    fps                  | 762         |\n",
            "|    iterations           | 8           |\n",
            "|    time_elapsed         | 344         |\n",
            "|    total_timesteps      | 262144      |\n",
            "| train/                  |             |\n",
            "|    approx_kl            | 0.012689791 |\n",
            "|    clip_fraction        | 0.0995      |\n",
            "|    clip_range           | 0.2         |\n",
            "|    entropy_loss         | -0.139      |\n",
            "|    explained_variance   | 0.0337      |\n",
            "|    learning_rate        | 0.0003      |\n",
            "|    loss                 | 0.0894      |\n",
            "|    n_updates            | 70          |\n",
            "|    policy_gradient_loss | -0.022      |\n",
            "|    value_loss           | 0.32        |\n",
            "-----------------------------------------\n",
            "------------------------------------------------------------\n",
            "timesteps: 280000\n",
            "Training   >>> accuracy: 0.9225, f1-score: 0.7043\n",
            "Validation >>> accuracy: 0.9233, f1-score: 0.7065\n",
            "------------------------------------------------------------\n",
            "----------------------------------------\n",
            "| time/                   |            |\n",
            "|    fps                  | 764        |\n",
            "|    iterations           | 9          |\n",
            "|    time_elapsed         | 385        |\n",
            "|    total_timesteps      | 294912     |\n",
            "| train/                  |            |\n",
            "|    approx_kl            | 0.03003591 |\n",
            "|    clip_fraction        | 0.095      |\n",
            "|    clip_range           | 0.2        |\n",
            "|    entropy_loss         | -0.102     |\n",
            "|    explained_variance   | 0.0524     |\n",
            "|    learning_rate        | 0.0003     |\n",
            "|    loss                 | 0.235      |\n",
            "|    n_updates            | 80         |\n",
            "|    policy_gradient_loss | -0.0195    |\n",
            "|    value_loss           | 0.514      |\n",
            "----------------------------------------\n",
            "------------------------------------------------------------\n",
            "timesteps: 300000\n",
            "Training   >>> accuracy: 0.9267, f1-score: 0.7258\n",
            "Validation >>> accuracy: 0.9275, f1-score: 0.7274\n",
            "------------------------------------------------------------\n",
            "------------------------------------------------------------\n",
            "timesteps: 320000\n",
            "Training   >>> accuracy: 0.9267, f1-score: 0.7258\n",
            "Validation >>> accuracy: 0.9275, f1-score: 0.7274\n",
            "------------------------------------------------------------\n",
            "-----------------------------------------\n",
            "| time/                   |             |\n",
            "|    fps                  | 755         |\n",
            "|    iterations           | 10          |\n",
            "|    time_elapsed         | 433         |\n",
            "|    total_timesteps      | 327680      |\n",
            "| train/                  |             |\n",
            "|    approx_kl            | 0.019820131 |\n",
            "|    clip_fraction        | 0.0515      |\n",
            "|    clip_range           | 0.2         |\n",
            "|    entropy_loss         | -0.0819     |\n",
            "|    explained_variance   | 0.0748      |\n",
            "|    learning_rate        | 0.0003      |\n",
            "|    loss                 | 0.482       |\n",
            "|    n_updates            | 90          |\n",
            "|    policy_gradient_loss | -0.0101     |\n",
            "|    value_loss           | 0.893       |\n",
            "-----------------------------------------\n",
            "------------------------------------------------------------\n",
            "timesteps: 340000\n",
            "Training   >>> accuracy: 0.9512, f1-score: 0.8334\n",
            "Validation >>> accuracy: 0.9514, f1-score: 0.8335\n",
            "------------------------------------------------------------\n",
            "------------------------------------------------------------\n",
            "timesteps: 360000\n",
            "Training   >>> accuracy: 0.9512, f1-score: 0.8334\n",
            "Validation >>> accuracy: 0.9514, f1-score: 0.8335\n",
            "------------------------------------------------------------\n",
            "-----------------------------------------\n",
            "| time/                   |             |\n",
            "|    fps                  | 732         |\n",
            "|    iterations           | 11          |\n",
            "|    time_elapsed         | 492         |\n",
            "|    total_timesteps      | 360448      |\n",
            "| train/                  |             |\n",
            "|    approx_kl            | 0.007988566 |\n",
            "|    clip_fraction        | 0.0428      |\n",
            "|    clip_range           | 0.2         |\n",
            "|    entropy_loss         | -0.0764     |\n",
            "|    explained_variance   | 0.0829      |\n",
            "|    learning_rate        | 0.0003      |\n",
            "|    loss                 | 0.563       |\n",
            "|    n_updates            | 100         |\n",
            "|    policy_gradient_loss | -0.0057     |\n",
            "|    value_loss           | 1.19        |\n",
            "-----------------------------------------\n",
            "------------------------------------------------------------\n",
            "timesteps: 380000\n",
            "Training   >>> accuracy: 0.9583, f1-score: 0.8625\n",
            "Validation >>> accuracy: 0.9584, f1-score: 0.8622\n",
            "------------------------------------------------------------\n",
            "------------------------------------------\n",
            "| time/                   |              |\n",
            "|    fps                  | 736          |\n",
            "|    iterations           | 12           |\n",
            "|    time_elapsed         | 534          |\n",
            "|    total_timesteps      | 393216       |\n",
            "| train/                  |              |\n",
            "|    approx_kl            | 0.0050116545 |\n",
            "|    clip_fraction        | 0.0475       |\n",
            "|    clip_range           | 0.2          |\n",
            "|    entropy_loss         | -0.0707      |\n",
            "|    explained_variance   | 0.0629       |\n",
            "|    learning_rate        | 0.0003       |\n",
            "|    loss                 | 0.795        |\n",
            "|    n_updates            | 110          |\n",
            "|    policy_gradient_loss | -0.00733     |\n",
            "|    value_loss           | 1.61         |\n",
            "------------------------------------------\n",
            "------------------------------------------------------------\n",
            "timesteps: 400000\n",
            "Training   >>> accuracy: 0.9628, f1-score: 0.8892\n",
            "Validation >>> accuracy: 0.9628, f1-score: 0.8886\n",
            "------------------------------------------------------------\n",
            "------------------------------------------------------------\n",
            "timesteps: 420000\n",
            "Training   >>> accuracy: 0.9628, f1-score: 0.8892\n",
            "Validation >>> accuracy: 0.9628, f1-score: 0.8886\n",
            "------------------------------------------------------------\n",
            "------------------------------------------\n",
            "| time/                   |              |\n",
            "|    fps                  | 731          |\n",
            "|    iterations           | 13           |\n",
            "|    time_elapsed         | 582          |\n",
            "|    total_timesteps      | 425984       |\n",
            "| train/                  |              |\n",
            "|    approx_kl            | 0.0053423448 |\n",
            "|    clip_fraction        | 0.0464       |\n",
            "|    clip_range           | 0.2          |\n",
            "|    entropy_loss         | -0.0694      |\n",
            "|    explained_variance   | 0.0478       |\n",
            "|    learning_rate        | 0.0003       |\n",
            "|    loss                 | 0.894        |\n",
            "|    n_updates            | 120          |\n",
            "|    policy_gradient_loss | -0.00741     |\n",
            "|    value_loss           | 1.98         |\n",
            "------------------------------------------\n",
            "------------------------------------------------------------\n",
            "timesteps: 440000\n",
            "Training   >>> accuracy: 0.9633, f1-score: 0.8918\n",
            "Validation >>> accuracy: 0.9633, f1-score: 0.8913\n",
            "------------------------------------------------------------\n",
            "-----------------------------------------\n",
            "| time/                   |             |\n",
            "|    fps                  | 728         |\n",
            "|    iterations           | 14          |\n",
            "|    time_elapsed         | 630         |\n",
            "|    total_timesteps      | 458752      |\n",
            "| train/                  |             |\n",
            "|    approx_kl            | 0.004728591 |\n",
            "|    clip_fraction        | 0.0363      |\n",
            "|    clip_range           | 0.2         |\n",
            "|    entropy_loss         | -0.0599     |\n",
            "|    explained_variance   | 0.0415      |\n",
            "|    learning_rate        | 0.0003      |\n",
            "|    loss                 | 0.973       |\n",
            "|    n_updates            | 130         |\n",
            "|    policy_gradient_loss | -0.00526    |\n",
            "|    value_loss           | 2.47        |\n",
            "-----------------------------------------\n",
            "------------------------------------------------------------\n",
            "timesteps: 460000\n",
            "Training   >>> accuracy: 0.9631, f1-score: 0.8925\n",
            "Validation >>> accuracy: 0.9630, f1-score: 0.8918\n",
            "------------------------------------------------------------\n",
            "------------------------------------------------------------\n",
            "timesteps: 480000\n",
            "Training   >>> accuracy: 0.9631, f1-score: 0.8925\n",
            "Validation >>> accuracy: 0.9630, f1-score: 0.8918\n",
            "------------------------------------------------------------\n",
            "------------------------------------------\n",
            "| time/                   |              |\n",
            "|    fps                  | 707          |\n",
            "|    iterations           | 15           |\n",
            "|    time_elapsed         | 694          |\n",
            "|    total_timesteps      | 491520       |\n",
            "| train/                  |              |\n",
            "|    approx_kl            | 0.0027288725 |\n",
            "|    clip_fraction        | 0.0274       |\n",
            "|    clip_range           | 0.2          |\n",
            "|    entropy_loss         | -0.0534      |\n",
            "|    explained_variance   | 0.0387       |\n",
            "|    learning_rate        | 0.0003       |\n",
            "|    loss                 | 1.5          |\n",
            "|    n_updates            | 140          |\n",
            "|    policy_gradient_loss | -0.00255     |\n",
            "|    value_loss           | 2.92         |\n",
            "------------------------------------------\n",
            "------------------------------------------------------------\n",
            "timesteps: 500000\n",
            "Training   >>> accuracy: 0.9636, f1-score: 0.8938\n",
            "Validation >>> accuracy: 0.9635, f1-score: 0.8932\n",
            "------------------------------------------------------------\n",
            "------------------------------------------------------------\n",
            "timesteps: 520000\n",
            "Training   >>> accuracy: 0.9636, f1-score: 0.8938\n",
            "Validation >>> accuracy: 0.9635, f1-score: 0.8932\n",
            "------------------------------------------------------------\n",
            "-----------------------------------------\n",
            "| time/                   |             |\n",
            "|    fps                  | 704         |\n",
            "|    iterations           | 16          |\n",
            "|    time_elapsed         | 744         |\n",
            "|    total_timesteps      | 524288      |\n",
            "| train/                  |             |\n",
            "|    approx_kl            | 0.004412888 |\n",
            "|    clip_fraction        | 0.0214      |\n",
            "|    clip_range           | 0.2         |\n",
            "|    entropy_loss         | -0.0456     |\n",
            "|    explained_variance   | 0.0386      |\n",
            "|    learning_rate        | 0.0003      |\n",
            "|    loss                 | 1.28        |\n",
            "|    n_updates            | 150         |\n",
            "|    policy_gradient_loss | -0.00128    |\n",
            "|    value_loss           | 3.08        |\n",
            "-----------------------------------------\n",
            "------------------------------------------------------------\n",
            "timesteps: 540000\n",
            "Training   >>> accuracy: 0.9634, f1-score: 0.8936\n",
            "Validation >>> accuracy: 0.9634, f1-score: 0.8930\n",
            "------------------------------------------------------------\n",
            "------------------------------------------\n",
            "| time/                   |              |\n",
            "|    fps                  | 707          |\n",
            "|    iterations           | 17           |\n",
            "|    time_elapsed         | 787          |\n",
            "|    total_timesteps      | 557056       |\n",
            "| train/                  |              |\n",
            "|    approx_kl            | 0.0049178507 |\n",
            "|    clip_fraction        | 0.0184       |\n",
            "|    clip_range           | 0.2          |\n",
            "|    entropy_loss         | -0.0414      |\n",
            "|    explained_variance   | 0.039        |\n",
            "|    learning_rate        | 0.0003       |\n",
            "|    loss                 | 2.16         |\n",
            "|    n_updates            | 160          |\n",
            "|    policy_gradient_loss | -0.000372    |\n",
            "|    value_loss           | 3.64         |\n",
            "------------------------------------------\n",
            "------------------------------------------------------------\n",
            "timesteps: 560000\n",
            "Training   >>> accuracy: 0.9637, f1-score: 0.8943\n",
            "Validation >>> accuracy: 0.9637, f1-score: 0.8937\n",
            "------------------------------------------------------------\n",
            "------------------------------------------------------------\n",
            "timesteps: 580000\n",
            "Training   >>> accuracy: 0.9637, f1-score: 0.8943\n",
            "Validation >>> accuracy: 0.9637, f1-score: 0.8937\n",
            "------------------------------------------------------------\n",
            "-----------------------------------------\n",
            "| time/                   |             |\n",
            "|    fps                  | 706         |\n",
            "|    iterations           | 18          |\n",
            "|    time_elapsed         | 835         |\n",
            "|    total_timesteps      | 589824      |\n",
            "| train/                  |             |\n",
            "|    approx_kl            | 0.002239193 |\n",
            "|    clip_fraction        | 0.0139      |\n",
            "|    clip_range           | 0.2         |\n",
            "|    entropy_loss         | -0.0358     |\n",
            "|    explained_variance   | 0.0421      |\n",
            "|    learning_rate        | 0.0003      |\n",
            "|    loss                 | 1.71        |\n",
            "|    n_updates            | 170         |\n",
            "|    policy_gradient_loss | 0.000339    |\n",
            "|    value_loss           | 3.58        |\n",
            "-----------------------------------------\n",
            "------------------------------------------------------------\n",
            "timesteps: 600000\n",
            "Training   >>> accuracy: 0.9636, f1-score: 0.8938\n",
            "Validation >>> accuracy: 0.9635, f1-score: 0.8932\n",
            "------------------------------------------------------------\n",
            "------------------------------------------------------------\n",
            "timesteps: 620000\n",
            "Training   >>> accuracy: 0.9636, f1-score: 0.8938\n",
            "Validation >>> accuracy: 0.9635, f1-score: 0.8932\n",
            "------------------------------------------------------------\n",
            "------------------------------------------\n",
            "| time/                   |              |\n",
            "|    fps                  | 704          |\n",
            "|    iterations           | 19           |\n",
            "|    time_elapsed         | 883          |\n",
            "|    total_timesteps      | 622592       |\n",
            "| train/                  |              |\n",
            "|    approx_kl            | 0.0026295194 |\n",
            "|    clip_fraction        | 0.0144       |\n",
            "|    clip_range           | 0.2          |\n",
            "|    entropy_loss         | -0.0348      |\n",
            "|    explained_variance   | 0.0417       |\n",
            "|    learning_rate        | 0.0003       |\n",
            "|    loss                 | 2.43         |\n",
            "|    n_updates            | 180          |\n",
            "|    policy_gradient_loss | 0.000788     |\n",
            "|    value_loss           | 3.92         |\n",
            "------------------------------------------\n",
            "------------------------------------------------------------\n",
            "timesteps: 640000\n",
            "Training   >>> accuracy: 0.9640, f1-score: 0.8945\n",
            "Validation >>> accuracy: 0.9639, f1-score: 0.8938\n",
            "------------------------------------------------------------\n",
            "-----------------------------------------\n",
            "| time/                   |             |\n",
            "|    fps                  | 709         |\n",
            "|    iterations           | 20          |\n",
            "|    time_elapsed         | 923         |\n",
            "|    total_timesteps      | 655360      |\n",
            "| train/                  |             |\n",
            "|    approx_kl            | 0.002683831 |\n",
            "|    clip_fraction        | 0.0114      |\n",
            "|    clip_range           | 0.2         |\n",
            "|    entropy_loss         | -0.0269     |\n",
            "|    explained_variance   | 0.0415      |\n",
            "|    learning_rate        | 0.0003      |\n",
            "|    loss                 | 2.05        |\n",
            "|    n_updates            | 190         |\n",
            "|    policy_gradient_loss | 0.000589    |\n",
            "|    value_loss           | 4.23        |\n",
            "-----------------------------------------\n",
            "------------------------------------------------------------\n",
            "timesteps: 660000\n",
            "Training   >>> accuracy: 0.9641, f1-score: 0.8952\n",
            "Validation >>> accuracy: 0.9641, f1-score: 0.8947\n",
            "------------------------------------------------------------\n",
            "------------------------------------------------------------\n",
            "timesteps: 680000\n",
            "Training   >>> accuracy: 0.9641, f1-score: 0.8952\n",
            "Validation >>> accuracy: 0.9641, f1-score: 0.8947\n",
            "------------------------------------------------------------\n",
            "---------------------------------------\n",
            "| time/                   |           |\n",
            "|    fps                  | 706       |\n",
            "|    iterations           | 21        |\n",
            "|    time_elapsed         | 973       |\n",
            "|    total_timesteps      | 688128    |\n",
            "| train/                  |           |\n",
            "|    approx_kl            | 0.0021828 |\n",
            "|    clip_fraction        | 0.00986   |\n",
            "|    clip_range           | 0.2       |\n",
            "|    entropy_loss         | -0.0228   |\n",
            "|    explained_variance   | 0.044     |\n",
            "|    learning_rate        | 0.0003    |\n",
            "|    loss                 | 1.77      |\n",
            "|    n_updates            | 200       |\n",
            "|    policy_gradient_loss | 0.000402  |\n",
            "|    value_loss           | 4.46      |\n",
            "---------------------------------------\n",
            "------------------------------------------------------------\n",
            "timesteps: 700000\n",
            "Training   >>> accuracy: 0.9634, f1-score: 0.8937\n",
            "Validation >>> accuracy: 0.9633, f1-score: 0.8930\n",
            "------------------------------------------------------------\n",
            "------------------------------------------------------------\n",
            "timesteps: 720000\n",
            "Training   >>> accuracy: 0.9634, f1-score: 0.8937\n",
            "Validation >>> accuracy: 0.9633, f1-score: 0.8930\n",
            "------------------------------------------------------------\n",
            "------------------------------------------\n",
            "| time/                   |              |\n",
            "|    fps                  | 705          |\n",
            "|    iterations           | 22           |\n",
            "|    time_elapsed         | 1022         |\n",
            "|    total_timesteps      | 720896       |\n",
            "| train/                  |              |\n",
            "|    approx_kl            | 0.0024605393 |\n",
            "|    clip_fraction        | 0.0128       |\n",
            "|    clip_range           | 0.2          |\n",
            "|    entropy_loss         | -0.0281      |\n",
            "|    explained_variance   | 0.0435       |\n",
            "|    learning_rate        | 0.0003       |\n",
            "|    loss                 | 2.32         |\n",
            "|    n_updates            | 210          |\n",
            "|    policy_gradient_loss | 0.00111      |\n",
            "|    value_loss           | 4.58         |\n",
            "------------------------------------------\n",
            "------------------------------------------------------------\n",
            "timesteps: 740000\n",
            "Training   >>> accuracy: 0.9627, f1-score: 0.8921\n",
            "Validation >>> accuracy: 0.9627, f1-score: 0.8915\n",
            "------------------------------------------------------------\n",
            "------------------------------------------\n",
            "| time/                   |              |\n",
            "|    fps                  | 708          |\n",
            "|    iterations           | 23           |\n",
            "|    time_elapsed         | 1063         |\n",
            "|    total_timesteps      | 753664       |\n",
            "| train/                  |              |\n",
            "|    approx_kl            | 0.0014795291 |\n",
            "|    clip_fraction        | 0.0124       |\n",
            "|    clip_range           | 0.2          |\n",
            "|    entropy_loss         | -0.0278      |\n",
            "|    explained_variance   | 0.0453       |\n",
            "|    learning_rate        | 0.0003       |\n",
            "|    loss                 | 2.75         |\n",
            "|    n_updates            | 220          |\n",
            "|    policy_gradient_loss | 0.00132      |\n",
            "|    value_loss           | 4.39         |\n",
            "------------------------------------------\n",
            "------------------------------------------------------------\n",
            "timesteps: 760000\n",
            "Training   >>> accuracy: 0.9587, f1-score: 0.8820\n",
            "Validation >>> accuracy: 0.9587, f1-score: 0.8816\n",
            "------------------------------------------------------------\n",
            "------------------------------------------------------------\n",
            "timesteps: 780000\n",
            "Training   >>> accuracy: 0.9587, f1-score: 0.8820\n",
            "Validation >>> accuracy: 0.9587, f1-score: 0.8816\n",
            "------------------------------------------------------------\n",
            "------------------------------------------\n",
            "| time/                   |              |\n",
            "|    fps                  | 703          |\n",
            "|    iterations           | 24           |\n",
            "|    time_elapsed         | 1118         |\n",
            "|    total_timesteps      | 786432       |\n",
            "| train/                  |              |\n",
            "|    approx_kl            | 0.0019211443 |\n",
            "|    clip_fraction        | 0.0146       |\n",
            "|    clip_range           | 0.2          |\n",
            "|    entropy_loss         | -0.0281      |\n",
            "|    explained_variance   | 0.0437       |\n",
            "|    learning_rate        | 0.0003       |\n",
            "|    loss                 | 2.34         |\n",
            "|    n_updates            | 230          |\n",
            "|    policy_gradient_loss | 0.000881     |\n",
            "|    value_loss           | 4.66         |\n",
            "------------------------------------------\n",
            "------------------------------------------------------------\n",
            "timesteps: 800000\n",
            "Training   >>> accuracy: 0.9640, f1-score: 0.8952\n",
            "Validation >>> accuracy: 0.9639, f1-score: 0.8945\n",
            "------------------------------------------------------------\n",
            "------------------------------------------\n",
            "| time/                   |              |\n",
            "|    fps                  | 705          |\n",
            "|    iterations           | 25           |\n",
            "|    time_elapsed         | 1161         |\n",
            "|    total_timesteps      | 819200       |\n",
            "| train/                  |              |\n",
            "|    approx_kl            | 0.0015287604 |\n",
            "|    clip_fraction        | 0.015        |\n",
            "|    clip_range           | 0.2          |\n",
            "|    entropy_loss         | -0.0292      |\n",
            "|    explained_variance   | 0.0472       |\n",
            "|    learning_rate        | 0.0003       |\n",
            "|    loss                 | 1.84         |\n",
            "|    n_updates            | 240          |\n",
            "|    policy_gradient_loss | 0.00139      |\n",
            "|    value_loss           | 4.41         |\n",
            "------------------------------------------\n",
            "------------------------------------------------------------\n",
            "timesteps: 820000\n",
            "Training   >>> accuracy: 0.9644, f1-score: 0.8961\n",
            "Validation >>> accuracy: 0.9644, f1-score: 0.8956\n",
            "------------------------------------------------------------\n",
            "------------------------------------------------------------\n",
            "timesteps: 840000\n",
            "Training   >>> accuracy: 0.9644, f1-score: 0.8961\n",
            "Validation >>> accuracy: 0.9644, f1-score: 0.8956\n",
            "------------------------------------------------------------\n",
            "------------------------------------------\n",
            "| time/                   |              |\n",
            "|    fps                  | 698          |\n",
            "|    iterations           | 26           |\n",
            "|    time_elapsed         | 1219         |\n",
            "|    total_timesteps      | 851968       |\n",
            "| train/                  |              |\n",
            "|    approx_kl            | 0.0019388053 |\n",
            "|    clip_fraction        | 0.0129       |\n",
            "|    clip_range           | 0.2          |\n",
            "|    entropy_loss         | -0.0269      |\n",
            "|    explained_variance   | 0.044        |\n",
            "|    learning_rate        | 0.0003       |\n",
            "|    loss                 | 2.18         |\n",
            "|    n_updates            | 250          |\n",
            "|    policy_gradient_loss | 0.00128      |\n",
            "|    value_loss           | 4.44         |\n",
            "------------------------------------------\n",
            "------------------------------------------------------------\n",
            "timesteps: 860000\n",
            "Training   >>> accuracy: 0.9641, f1-score: 0.8955\n",
            "Validation >>> accuracy: 0.9641, f1-score: 0.8949\n",
            "------------------------------------------------------------\n",
            "------------------------------------------------------------\n",
            "timesteps: 880000\n",
            "Training   >>> accuracy: 0.9641, f1-score: 0.8955\n",
            "Validation >>> accuracy: 0.9641, f1-score: 0.8949\n",
            "------------------------------------------------------------\n",
            "----------------------------------------\n",
            "| time/                   |            |\n",
            "|    fps                  | 694        |\n",
            "|    iterations           | 27         |\n",
            "|    time_elapsed         | 1273       |\n",
            "|    total_timesteps      | 884736     |\n",
            "| train/                  |            |\n",
            "|    approx_kl            | 0.00215498 |\n",
            "|    clip_fraction        | 0.0115     |\n",
            "|    clip_range           | 0.2        |\n",
            "|    entropy_loss         | -0.0239    |\n",
            "|    explained_variance   | 0.0459     |\n",
            "|    learning_rate        | 0.0003     |\n",
            "|    loss                 | 2.09       |\n",
            "|    n_updates            | 260        |\n",
            "|    policy_gradient_loss | 0.00108    |\n",
            "|    value_loss           | 4.99       |\n",
            "----------------------------------------\n",
            "------------------------------------------------------------\n",
            "timesteps: 900000\n",
            "Training   >>> accuracy: 0.9643, f1-score: 0.8959\n",
            "Validation >>> accuracy: 0.9642, f1-score: 0.8951\n",
            "------------------------------------------------------------\n",
            "------------------------------------------\n",
            "| time/                   |              |\n",
            "|    fps                  | 697          |\n",
            "|    iterations           | 28           |\n",
            "|    time_elapsed         | 1315         |\n",
            "|    total_timesteps      | 917504       |\n",
            "| train/                  |              |\n",
            "|    approx_kl            | 0.0019808128 |\n",
            "|    clip_fraction        | 0.0111       |\n",
            "|    clip_range           | 0.2          |\n",
            "|    entropy_loss         | -0.0223      |\n",
            "|    explained_variance   | 0.0443       |\n",
            "|    learning_rate        | 0.0003       |\n",
            "|    loss                 | 2.86         |\n",
            "|    n_updates            | 270          |\n",
            "|    policy_gradient_loss | 0.00107      |\n",
            "|    value_loss           | 4.78         |\n",
            "------------------------------------------\n",
            "------------------------------------------------------------\n",
            "timesteps: 920000\n",
            "Training   >>> accuracy: 0.9637, f1-score: 0.8946\n",
            "Validation >>> accuracy: 0.9636, f1-score: 0.8938\n",
            "------------------------------------------------------------\n",
            "------------------------------------------------------------\n",
            "timesteps: 940000\n",
            "Training   >>> accuracy: 0.9637, f1-score: 0.8946\n",
            "Validation >>> accuracy: 0.9636, f1-score: 0.8938\n",
            "------------------------------------------------------------\n",
            "------------------------------------------\n",
            "| time/                   |              |\n",
            "|    fps                  | 694          |\n",
            "|    iterations           | 29           |\n",
            "|    time_elapsed         | 1368         |\n",
            "|    total_timesteps      | 950272       |\n",
            "| train/                  |              |\n",
            "|    approx_kl            | 0.0019002351 |\n",
            "|    clip_fraction        | 0.0119       |\n",
            "|    clip_range           | 0.2          |\n",
            "|    entropy_loss         | -0.0242      |\n",
            "|    explained_variance   | 0.048        |\n",
            "|    learning_rate        | 0.0003       |\n",
            "|    loss                 | 2.15         |\n",
            "|    n_updates            | 280          |\n",
            "|    policy_gradient_loss | 0.000983     |\n",
            "|    value_loss           | 5.05         |\n",
            "------------------------------------------\n",
            "------------------------------------------------------------\n",
            "timesteps: 960000\n",
            "Training   >>> accuracy: 0.9642, f1-score: 0.8957\n",
            "Validation >>> accuracy: 0.9642, f1-score: 0.8951\n",
            "------------------------------------------------------------\n",
            "------------------------------------------------------------\n",
            "timesteps: 980000\n",
            "Training   >>> accuracy: 0.9642, f1-score: 0.8957\n",
            "Validation >>> accuracy: 0.9642, f1-score: 0.8951\n",
            "------------------------------------------------------------\n",
            "-----------------------------------------\n",
            "| time/                   |             |\n",
            "|    fps                  | 692         |\n",
            "|    iterations           | 30          |\n",
            "|    time_elapsed         | 1419        |\n",
            "|    total_timesteps      | 983040      |\n",
            "| train/                  |             |\n",
            "|    approx_kl            | 0.002878914 |\n",
            "|    clip_fraction        | 0.0142      |\n",
            "|    clip_range           | 0.2         |\n",
            "|    entropy_loss         | -0.0269     |\n",
            "|    explained_variance   | 0.0474      |\n",
            "|    learning_rate        | 0.0003      |\n",
            "|    loss                 | 2.58        |\n",
            "|    n_updates            | 290         |\n",
            "|    policy_gradient_loss | 0.00103     |\n",
            "|    value_loss           | 4.92        |\n",
            "-----------------------------------------\n",
            "------------------------------------------------------------\n",
            "timesteps: 1000000\n",
            "Training   >>> accuracy: 0.9640, f1-score: 0.8952\n",
            "Validation >>> accuracy: 0.9640, f1-score: 0.8947\n",
            "------------------------------------------------------------\n",
            "------------------------------------------\n",
            "| time/                   |              |\n",
            "|    fps                  | 693          |\n",
            "|    iterations           | 31           |\n",
            "|    time_elapsed         | 1465         |\n",
            "|    total_timesteps      | 1015808      |\n",
            "| train/                  |              |\n",
            "|    approx_kl            | 0.0027915281 |\n",
            "|    clip_fraction        | 0.0112       |\n",
            "|    clip_range           | 0.2          |\n",
            "|    entropy_loss         | -0.0216      |\n",
            "|    explained_variance   | 0.046        |\n",
            "|    learning_rate        | 0.0003       |\n",
            "|    loss                 | 2.79         |\n",
            "|    n_updates            | 300          |\n",
            "|    policy_gradient_loss | 0.000942     |\n",
            "|    value_loss           | 5.14         |\n",
            "------------------------------------------\n"
          ]
        },
        {
          "output_type": "execute_result",
          "data": {
            "text/plain": [
              "<stable_baselines3.ppo.ppo.PPO at 0x782cc32f9db0>"
            ]
          },
          "metadata": {},
          "execution_count": 25
        }
      ]
    },
    {
      "cell_type": "code",
      "source": [
        "model.save('/content/drive/MyDrive/ML/CIC-IDS-2017/model/ppo_model')"
      ],
      "metadata": {
        "id": "gD35WdEEkPIg"
      },
      "execution_count": null,
      "outputs": []
    },
    {
      "cell_type": "code",
      "source": [
        "from sklearn.metrics import (\n",
        "    precision_score,\n",
        "    recall_score,\n",
        "    balanced_accuracy_score,\n",
        "    confusion_matrix,\n",
        ")\n",
        "import matplotlib.pyplot as plt\n",
        "import seaborn as sns"
      ],
      "metadata": {
        "id": "lQ8pu_sLlabO"
      },
      "execution_count": null,
      "outputs": []
    },
    {
      "cell_type": "code",
      "source": [
        "pred = train_data.drop(columns=[\"label\"]).swifter.apply(\n",
        "    lambda x: model.predict(x, deterministic=True)[0], axis=1\n",
        ")\n",
        "\n",
        "print(\"accuarcy:\", accuracy_score(train_data[\"label\"], pred))\n",
        "print(\"recall:\", recall_score(train_data[\"label\"], pred))\n",
        "print(\"precision:\", precision_score(train_data[\"label\"], pred))\n",
        "print(\"f1-score:\", f1_score(train_data[\"label\"], pred))\n",
        "print(\"balanced accuarcy:\", balanced_accuracy_score(train_data[\"label\"], pred))\n",
        "\n",
        "print(\"\\nConfusion matrix:\")\n",
        "cm = confusion_matrix(train_data[\"label\"], pred)\n",
        "df_cm = pd.DataFrame(cm, columns=[\"normal\", \"attack\"], index=[\"normal\", \"attack\"])\n",
        "df_cm.index.name = \"Actual\"\n",
        "df_cm.columns.name = \"Predicted\"\n",
        "\n",
        "plt.figure(figsize=(10, 7))\n",
        "sns.heatmap(df_cm, cmap=\"Blues\", annot=True, fmt=\"g\")"
      ],
      "metadata": {
        "colab": {
          "base_uri": "https://localhost:8080/",
          "height": 779
        },
        "id": "8Pgw-qZBliP2",
        "outputId": "6d967a12-036c-4fcf-dc88-bde05eda625d"
      },
      "execution_count": null,
      "outputs": [
        {
          "output_type": "stream",
          "name": "stdout",
          "text": [
            "accuarcy: 0.9637248885830993\n",
            "recall: 0.9126630502602198\n",
            "precision: 0.8774599231455964\n",
            "f1-score: 0.8947153484271978\n",
            "balanced accuarcy: 0.9433818843057957\n",
            "\n",
            "Confusion matrix:\n"
          ]
        },
        {
          "output_type": "execute_result",
          "data": {
            "text/plain": [
              "<Axes: xlabel='Predicted', ylabel='Actual'>"
            ]
          },
          "metadata": {},
          "execution_count": 29
        },
        {
          "output_type": "display_data",
          "data": {
            "text/plain": [
              "<Figure size 1000x700 with 2 Axes>"
            ],
            "image/png": "[encoded data removed]"
          },
          "metadata": {}
        }
      ]
    },
    {
      "cell_type": "code",
      "source": [
        "pred = val_data.drop(columns=[\"label\"]).swifter.apply(\n",
        "    lambda x: model.predict(x, deterministic=True)[0], axis=1\n",
        ")\n",
        "\n",
        "print(\"accuarcy:\", accuracy_score(val_data[\"label\"], pred))\n",
        "print(\"recall:\", recall_score(val_data[\"label\"], pred))\n",
        "print(\"precision:\", precision_score(val_data[\"label\"], pred))\n",
        "print(\"f1-score:\", f1_score(val_data[\"label\"], pred))\n",
        "print(\"balanced accuarcy:\", balanced_accuracy_score(val_data[\"label\"], pred))\n",
        "\n",
        "print(\"\\nConfusion matrix:\")\n",
        "cm = confusion_matrix(val_data[\"label\"], pred)\n",
        "df_cm = pd.DataFrame(cm, columns=[\"normal\", \"attack\"], index=[\"normal\", \"attack\"])\n",
        "df_cm.index.name = \"Actual\"\n",
        "df_cm.columns.name = \"Predicted\"\n",
        "\n",
        "plt.figure(figsize=(10, 7))\n",
        "sns.heatmap(df_cm, cmap=\"Blues\", annot=True, fmt=\"g\")"
      ],
      "metadata": {
        "colab": {
          "base_uri": "https://localhost:8080/",
          "height": 764
        },
        "id": "K5WxPrphlnqs",
        "outputId": "db1bc1e7-9170-422b-dc24-921a20954005"
      },
      "execution_count": null,
      "outputs": [
        {
          "output_type": "stream",
          "name": "stdout",
          "text": [
            "accuarcy: 0.9636871231355125\n",
            "recall: 0.9130999277062217\n",
            "precision: 0.8760563380281691\n",
            "f1-score: 0.8941946483268799\n",
            "balanced accuarcy: 0.9435026890884715\n",
            "\n",
            "Confusion matrix:\n"
          ]
        },
        {
          "output_type": "execute_result",
          "data": {
            "text/plain": [
              "<Axes: xlabel='Predicted', ylabel='Actual'>"
            ]
          },
          "metadata": {},
          "execution_count": 30
        },
        {
          "output_type": "display_data",
          "data": {
            "text/plain": [
              "<Figure size 1000x700 with 2 Axes>"
            ],
            "image/png": "[encoded data removed]"
          },
          "metadata": {}
        }
      ]
    },
    {
      "cell_type": "code",
      "source": [
        "test_data = pd.read_csv(\"/content/drive/MyDrive/ML/CIC-IDS-2017/processed_data/test.csv\")"
      ],
      "metadata": {
        "id": "UgO-Cb_klqIc"
      },
      "execution_count": null,
      "outputs": []
    },
    {
      "cell_type": "code",
      "source": [
        "pred = test_data.drop(columns=[\"label\"]).swifter.apply(\n",
        "    lambda x: model.predict(x, deterministic=True)[0], axis=1\n",
        ")\n",
        "\n",
        "print(\"accuarcy:\", accuracy_score(test_data[\"label\"], pred))\n",
        "print(\"recall:\", recall_score(test_data[\"label\"], pred))\n",
        "print(\"precision:\", precision_score(test_data[\"label\"], pred))\n",
        "print(\"f1-score:\", f1_score(test_data[\"label\"], pred))\n",
        "print(\"balanced accuarcy:\", balanced_accuracy_score(test_data[\"label\"], pred))\n",
        "\n",
        "print(\"\\nConfusion matrix:\")\n",
        "cm = confusion_matrix(test_data[\"label\"], pred)\n",
        "df_cm = pd.DataFrame(cm, columns=[\"normal\", \"attack\"], index=[\"normal\", \"attack\"])\n",
        "df_cm.index.name = \"Actual\"\n",
        "df_cm.columns.name = \"Predicted\"\n",
        "\n",
        "plt.figure(figsize=(10, 7))\n",
        "sns.heatmap(df_cm, cmap=\"Blues\", annot=True, fmt=\"g\")"
      ],
      "metadata": {
        "colab": {
          "base_uri": "https://localhost:8080/",
          "height": 764
        },
        "id": "gaUjJ5dHlvIm",
        "outputId": "70d8a442-e848-4a8e-f744-8aa2d32409f7"
      },
      "execution_count": null,
      "outputs": [
        {
          "output_type": "stream",
          "name": "stdout",
          "text": [
            "accuarcy: 0.9637277848302126\n",
            "recall: 0.9125730994152047\n",
            "precision: 0.8782939540957033\n",
            "f1-score: 0.8951054566729953\n",
            "balanced accuarcy: 0.9433739237103731\n",
            "\n",
            "Confusion matrix:\n"
          ]
        },
        {
          "output_type": "execute_result",
          "data": {
            "text/plain": [
              "<Axes: xlabel='Predicted', ylabel='Actual'>"
            ]
          },
          "metadata": {},
          "execution_count": 32
        },
        {
          "output_type": "display_data",
          "data": {
            "text/plain": [
              "<Figure size 1000x700 with 2 Axes>"
            ],
            "image/png": "[encoded data removed]"
          },
          "metadata": {}
        }
      ]
    }
  ]
}